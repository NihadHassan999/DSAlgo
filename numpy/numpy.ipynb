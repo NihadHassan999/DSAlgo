{
 "cells": [
  {
   "cell_type": "code",
   "execution_count": 2,
   "metadata": {},
   "outputs": [],
   "source": [
    "# importing numpy\n",
    "import numpy as np"
   ]
  },
  {
   "cell_type": "code",
   "execution_count": null,
   "metadata": {},
   "outputs": [
    {
     "data": {
      "text/plain": [
       "array([1, 2, 3, 4, 5])"
      ]
     },
     "execution_count": 2,
     "metadata": {},
     "output_type": "execute_result"
    }
   ],
   "source": [
    "# creating a 1D array\n",
    "a = np.array([1,2,3,4,5])\n",
    "a"
   ]
  },
  {
   "cell_type": "code",
   "execution_count": 13,
   "metadata": {},
   "outputs": [
    {
     "data": {
      "text/plain": [
       "array([1, 2, 3])"
      ]
     },
     "execution_count": 13,
     "metadata": {},
     "output_type": "execute_result"
    }
   ],
   "source": [
    "# accessing elements\n",
    "a[0]"
   ]
  },
  {
   "cell_type": "code",
   "execution_count": 12,
   "metadata": {},
   "outputs": [
    {
     "data": {
      "text/plain": [
       "(2, 3)"
      ]
     },
     "execution_count": 12,
     "metadata": {},
     "output_type": "execute_result"
    }
   ],
   "source": [
    "# 2D array\n",
    "a = np.array([[1, 2, 3],\n",
    "              [4, 5, 6]])\n",
    "a.shape"
   ]
  },
  {
   "cell_type": "code",
   "execution_count": 11,
   "metadata": {},
   "outputs": [
    {
     "data": {
      "text/plain": [
       "array([[1, 2, 3],\n",
       "       [2, 3, 4]])"
      ]
     },
     "execution_count": 11,
     "metadata": {},
     "output_type": "execute_result"
    }
   ],
   "source": [
    "# assign different values through index\n",
    "a[1] = [2,3,4]\n",
    "a"
   ]
  },
  {
   "cell_type": "code",
   "execution_count": 24,
   "metadata": {},
   "outputs": [
    {
     "data": {
      "text/plain": [
       "dtype('int64')"
      ]
     },
     "execution_count": 24,
     "metadata": {},
     "output_type": "execute_result"
    }
   ],
   "source": [
    "'''\n",
    "Array attributes:\n",
    "-> ndim\n",
    "-> shape\n",
    "-> size\n",
    "-> dtype\n",
    "'''\n",
    "\n",
    "a.ndim\n",
    "a.shape\n",
    "a.size\n",
    "a.dtype"
   ]
  },
  {
   "cell_type": "code",
   "execution_count": null,
   "metadata": {},
   "outputs": [
    {
     "data": {
      "text/plain": [
       "array([2, 4, 6])"
      ]
     },
     "execution_count": 34,
     "metadata": {},
     "output_type": "execute_result"
    }
   ],
   "source": [
    "'''\n",
    "Array creation\n",
    "-> np.zeros\n",
    "-> np.ones\n",
    "-> np.empty\n",
    "-> np.arange\n",
    "-> np.linspace\n",
    "'''\n",
    "# create ones array of 2 elements\n",
    "new = np.ones(2)\n",
    "\n",
    "# create range of elements from 0 to 10\n",
    "new = np.arange(11)\n",
    "\n",
    "# create range with start, stop and step\n",
    "new  = np.arange(2, 8, 2)\n",
    "new\n",
    "\n",
    "\n",
    "\n"
   ]
  },
  {
   "cell_type": "markdown",
   "metadata": {},
   "source": [
    "#### Adding, removing and sorting elements"
   ]
  },
  {
   "cell_type": "code",
   "execution_count": 5,
   "metadata": {},
   "outputs": [
    {
     "data": {
      "text/plain": [
       "array([1, 3, 5, 6, 7])"
      ]
     },
     "execution_count": 5,
     "metadata": {},
     "output_type": "execute_result"
    }
   ],
   "source": [
    "'''\n",
    "-> np.sort()\n",
    "-> np.concatenate()\n",
    "'''\n",
    "\n",
    "'''\n",
    "Different types of sorting:\n",
    "\n",
    "-> argsort\n",
    "-> lexsort\n",
    "-> searchsorted\n",
    "-> partition\n",
    "'''\n",
    "\n",
    "a = np.array([5,3,7,1,6])\n",
    "a.sort()\n",
    "a"
   ]
  },
  {
   "cell_type": "code",
   "execution_count": 15,
   "metadata": {},
   "outputs": [
    {
     "data": {
      "text/plain": [
       "array([1, 2, 3, 4, 5, 6, 7, 8])"
      ]
     },
     "execution_count": 15,
     "metadata": {},
     "output_type": "execute_result"
    }
   ],
   "source": [
    "a = np.array([1, 2, 3, 4])\n",
    "b = np.array([5, 6, 7, 8])\n",
    "\n",
    "conc = np.concatenate((a, b), axis = 0)\n",
    "conc"
   ]
  },
  {
   "cell_type": "code",
   "execution_count": 18,
   "metadata": {},
   "outputs": [
    {
     "data": {
      "text/plain": [
       "array([[ 1,  2,  3,  7,  8,  9],\n",
       "       [ 4,  5,  6, 10, 11, 12]])"
      ]
     },
     "execution_count": 18,
     "metadata": {},
     "output_type": "execute_result"
    }
   ],
   "source": [
    "# Two 2D arrays\n",
    "a = np.array([[1, 2, 3], [4, 5, 6]])  # Shape (2, 3)\n",
    "b = np.array([[7, 8, 9], [10, 11, 12]])  # Shape (2, 3)\n",
    "\n",
    "final = np.concatenate((a, b), axis = 1)\n",
    "final"
   ]
  },
  {
   "cell_type": "code",
   "execution_count": null,
   "metadata": {},
   "outputs": [],
   "source": [
    "'''\n",
    "-> .ndim - 1D or 2D\n",
    "-> .size - product of (x, y)\n",
    "-> .shape - (x, y)\n",
    "'''"
   ]
  },
  {
   "cell_type": "markdown",
   "metadata": {},
   "source": [
    "#### Reshaping "
   ]
  },
  {
   "cell_type": "code",
   "execution_count": 30,
   "metadata": {},
   "outputs": [
    {
     "data": {
      "text/plain": [
       "array([1, 2, 3, 4, 5, 6])"
      ]
     },
     "execution_count": 30,
     "metadata": {},
     "output_type": "execute_result"
    }
   ],
   "source": [
    "'''\n",
    "reshape(a, newshape = (x, y))\n",
    "'''\n",
    "a = np.array([1,2,3,4,5,6])\n",
    "a.reshape(1,6)\n",
    "a"
   ]
  },
  {
   "cell_type": "markdown",
   "metadata": {},
   "source": [
    "#### Convert 1D to 2D"
   ]
  },
  {
   "cell_type": "code",
   "execution_count": 19,
   "metadata": {},
   "outputs": [
    {
     "data": {
      "text/plain": [
       "(5,)"
      ]
     },
     "execution_count": 19,
     "metadata": {},
     "output_type": "execute_result"
    }
   ],
   "source": [
    "import numpy as np\n",
    "\n",
    "'''\n",
    "-> np.newaxis\n",
    "-> np.expand_dims\n",
    "'''\n",
    "\n",
    "a = np.array([1,2,3,4,5])\n",
    "a.shape"
   ]
  },
  {
   "cell_type": "code",
   "execution_count": 27,
   "metadata": {},
   "outputs": [
    {
     "name": "stdout",
     "output_type": "stream",
     "text": [
      "Shape of row vector (1, 5)\n",
      "Row vector : [[1 2 3 4 5]]\n",
      "[1 2 3 4 5]\n",
      "Shape of col vector (5, 1)\n",
      "Col vector : [[1]\n",
      " [2]\n",
      " [3]\n",
      " [4]\n",
      " [5]]\n"
     ]
    }
   ],
   "source": [
    "row_vector = a[np.newaxis, :]\n",
    "print(\"Shape of row vector\", row_vector.shape)\n",
    "print(f\"Row vector : {row_vector}\")\n",
    "print(a)\n",
    "col_vector = a[:, np.newaxis]\n",
    "print(\"Shape of col vector\", col_vector.shape)\n",
    "print(f\"Col vector : {col_vector}\")"
   ]
  },
  {
   "cell_type": "code",
   "execution_count": 31,
   "metadata": {},
   "outputs": [
    {
     "name": "stdout",
     "output_type": "stream",
     "text": [
      "shape of b : (5, 1)[[1]\n",
      " [2]\n",
      " [3]\n",
      " [4]\n",
      " [5]]\n",
      "shape of c : (1, 5)[[1 2 3 4 5]]\n"
     ]
    }
   ],
   "source": [
    "b = np.expand_dims(a, axis=1)\n",
    "print(f\"shape of b : {b.shape}{b}\")\n",
    "\n",
    "c = np.expand_dims(a, axis=0)\n",
    "print(f\"shape of c : {c.shape}{c}\")"
   ]
  },
  {
   "cell_type": "markdown",
   "metadata": {},
   "source": [
    "#### Slicing and Indexing "
   ]
  },
  {
   "cell_type": "code",
   "execution_count": 36,
   "metadata": {},
   "outputs": [
    {
     "data": {
      "text/plain": [
       "array([2, 1])"
      ]
     },
     "execution_count": 36,
     "metadata": {},
     "output_type": "execute_result"
    }
   ],
   "source": [
    "'''\n",
    "-> np.nonzero()\n",
    "'''\n",
    "\n",
    "'''\n",
    "in reverse, zero indexing in slicing is not considered but in normal direction, zero indexing for slicing is considered\n",
    "'''\n",
    "\n",
    "data = np.array([1,2,3])\n",
    "data[-2::-1]\n"
   ]
  },
  {
   "cell_type": "code",
   "execution_count": 42,
   "metadata": {},
   "outputs": [
    {
     "name": "stdout",
     "output_type": "stream",
     "text": [
      "[1 2 3 4 5 6 7]\n"
     ]
    }
   ],
   "source": [
    "'''\n",
    "special functions or operations can be done inside a[]\n",
    "'''\n",
    "a = np.array([[1,2,3,4], [5,6,7,8]])\n",
    "print(a[a<8])"
   ]
  },
  {
   "cell_type": "code",
   "execution_count": 52,
   "metadata": {},
   "outputs": [
    {
     "name": "stdout",
     "output_type": "stream",
     "text": [
      "(array([0, 0, 0, 0, 1, 1]), array([0, 1, 2, 3, 0, 1]))\n"
     ]
    }
   ],
   "source": [
    "lessThan = np.nonzero(a < 7)\n",
    "print(lessThan)"
   ]
  },
  {
   "cell_type": "markdown",
   "metadata": {},
   "source": [
    "### Creating arrays from existing data"
   ]
  },
  {
   "cell_type": "code",
   "execution_count": 56,
   "metadata": {},
   "outputs": [
    {
     "data": {
      "text/plain": [
       "array([ 0,  1,  2,  3,  4,  5,  6,  7,  8,  9, 10])"
      ]
     },
     "execution_count": 56,
     "metadata": {},
     "output_type": "execute_result"
    }
   ],
   "source": [
    "'''\n",
    "-> slicing and indexing\n",
    "-> np.vstack()\n",
    "-> np.hstack()\n",
    "-> np.hsplit()\n",
    "-> .view()\n",
    "-> copy()\n",
    "'''\n",
    "\n",
    "a = np.arange(0,11)\n",
    "a"
   ]
  },
  {
   "cell_type": "code",
   "execution_count": 57,
   "metadata": {},
   "outputs": [
    {
     "data": {
      "text/plain": [
       "array([1, 2, 3, 4, 5, 6, 7, 8])"
      ]
     },
     "execution_count": 57,
     "metadata": {},
     "output_type": "execute_result"
    }
   ],
   "source": [
    "'''\n",
    "create new array from existing array using slicing\n",
    "'''\n",
    "\n",
    "new_array = a[1:9]\n",
    "new_array"
   ]
  },
  {
   "cell_type": "code",
   "execution_count": 61,
   "metadata": {},
   "outputs": [
    {
     "data": {
      "text/plain": [
       "array([[1, 1],\n",
       "       [2, 2],\n",
       "       [3, 3],\n",
       "       [4, 4]])"
      ]
     },
     "execution_count": 61,
     "metadata": {},
     "output_type": "execute_result"
    }
   ],
   "source": [
    "a1 = np.array([[1, 1],\n",
    "               [2, 2]])\n",
    "\n",
    "a2 = np.array([[3, 3],\n",
    "               [4, 4]])\n",
    "\n",
    "stacked = np.vstack((a1, a2))\n",
    "stacked"
   ]
  },
  {
   "cell_type": "code",
   "execution_count": 69,
   "metadata": {},
   "outputs": [
    {
     "data": {
      "text/plain": [
       "[array([1]), array([2]), array([3]), array([4])]"
      ]
     },
     "execution_count": 69,
     "metadata": {},
     "output_type": "execute_result"
    }
   ],
   "source": [
    "new = np.array([1,2,3,4])\n",
    "np.hsplit(new, 4)"
   ]
  },
  {
   "cell_type": "code",
   "execution_count": 73,
   "metadata": {},
   "outputs": [
    {
     "name": "stdout",
     "output_type": "stream",
     "text": [
      "Array 'a'  : [1 2 3 4 5]\n",
      "Array 'a_copy' before change : [1 2 3 4 5]\n",
      "Array 'a_copy' after change : [99  2  3  4  5]\n",
      "Array 'a' after change : [1 2 3 4 5]\n"
     ]
    }
   ],
   "source": [
    "'''\n",
    "after slicing to create new array from existing array, any changes to the new array will reflect in the existing array\n",
    "its a shallow copy\n",
    "hence use copy() method to create a deep copy \n",
    "'''\n",
    "\n",
    "a = np.arange(1,6)\n",
    "print(f\"Array 'a'  : {a}\")\n",
    "a_copy = a.copy()\n",
    "print(f\"Array 'a_copy' before change : {a_copy}\")\n",
    "a_copy[0] = 99\n",
    "print(f\"Array 'a_copy' after change : {a_copy}\")\n",
    "print(f\"Array 'a' after change : {a}\")"
   ]
  },
  {
   "cell_type": "markdown",
   "metadata": {},
   "source": [
    "### Aggregation functions"
   ]
  },
  {
   "cell_type": "code",
   "execution_count": null,
   "metadata": {},
   "outputs": [],
   "source": [
    "'''\n",
    "-> .max()\n",
    "-> .min()\n",
    "-> .sum()\n",
    "-> random.Generator class\n",
    "-> Generator.integers\n",
    "'''"
   ]
  },
  {
   "cell_type": "code",
   "execution_count": 12,
   "metadata": {},
   "outputs": [
    {
     "data": {
      "text/plain": [
       "array([[2, 3],\n",
       "       [4, 5]])"
      ]
     },
     "execution_count": 12,
     "metadata": {},
     "output_type": "execute_result"
    }
   ],
   "source": [
    "a = np.arange(2,6)\n",
    "a = a.reshape(2,2)\n",
    "a"
   ]
  },
  {
   "cell_type": "code",
   "execution_count": 30,
   "metadata": {},
   "outputs": [
    {
     "name": "stdout",
     "output_type": "stream",
     "text": [
      "Sum : 14\n",
      "Min : 2\n",
      "Max : 5\n",
      "RNG :Generator(PCG64)\n",
      "RNG int : [[3 4 2]\n",
      " [4 4 3]]\n"
     ]
    }
   ],
   "source": [
    "sum = a.sum()\n",
    "print(f\"Sum : {sum}\")\n",
    "\n",
    "min = a.min()\n",
    "print(f\"Min : {min}\")\n",
    "\n",
    "max = a.max()\n",
    "print(f\"Max : {max}\")\n",
    "\n",
    "rng = np.random.default_rng()\n",
    "rng.random((3,2))\n",
    "print(f\"RNG :{rng}\")\n",
    "\n",
    "rng_int = rng.integers(5, size = (2,3))\n",
    "print(f\"RNG int : {rng_int}\")"
   ]
  },
  {
   "cell_type": "markdown",
   "metadata": {},
   "source": [
    "### Unique items and counts"
   ]
  },
  {
   "cell_type": "code",
   "execution_count": null,
   "metadata": {},
   "outputs": [],
   "source": [
    "'''\n",
    "-> np.unique()\n",
    "-> return_counts\n",
    "'''"
   ]
  },
  {
   "cell_type": "code",
   "execution_count": 36,
   "metadata": {},
   "outputs": [
    {
     "name": "stdout",
     "output_type": "stream",
     "text": [
      "original array : [11 11 12 13 14 15 16 17 12 13 11 14 18 19 20]\n",
      "Unique values : [11 12 13 14 15 16 17 18 19 20]\n",
      "counts : [3 2 2 2 1 1 1 1 1 1]\n"
     ]
    }
   ],
   "source": [
    "a = np.array([11, 11, 12, 13, 14, 15, 16, 17, 12, 13, 11, 14, 18, 19, 20])\n",
    "print(f\"original array : {a}\")\n",
    "unique_values, count = np.unique(a, return_counts=True)\n",
    "print(f\"Unique values : {unique_values}\")\n",
    "print(f\"counts : {count}\")"
   ]
  },
  {
   "cell_type": "markdown",
   "metadata": {},
   "source": [
    "#### Transposing and reshaping a matrix"
   ]
  },
  {
   "cell_type": "code",
   "execution_count": null,
   "metadata": {},
   "outputs": [],
   "source": [
    "'''\n",
    "-> np.transpose() or n.T\n",
    "-> np.reshape()\n",
    "'''"
   ]
  },
  {
   "cell_type": "code",
   "execution_count": 42,
   "metadata": {},
   "outputs": [
    {
     "name": "stdout",
     "output_type": "stream",
     "text": [
      "[[0 1 2]\n",
      " [3 4 5]]\n",
      "Transpose of A : [[0 3]\n",
      " [1 4]\n",
      " [2 5]]\n"
     ]
    }
   ],
   "source": [
    "a = np.arange(6).reshape(2,3)\n",
    "print(a)\n",
    "a_transpose = np.transpose(a)\n",
    "print(f\"Transpose of A : {a_transpose}\")"
   ]
  },
  {
   "cell_type": "markdown",
   "metadata": {},
   "source": [
    "#### Reversing array"
   ]
  },
  {
   "cell_type": "code",
   "execution_count": null,
   "metadata": {},
   "outputs": [],
   "source": [
    "'''\n",
    "-> np.flip()\n",
    "'''"
   ]
  },
  {
   "cell_type": "code",
   "execution_count": 56,
   "metadata": {},
   "outputs": [
    {
     "name": "stdout",
     "output_type": "stream",
     "text": [
      "original array : [[3 4 5]\n",
      " [3 4 5]]\n",
      "Reversed array : [[5 4 3]\n",
      " [5 4 3]]\n",
      "Reversed array using axis : [[3 4 5]\n",
      " [3 4 5]]\n",
      "second row [[3 4 5]\n",
      " [5 4 3]]\n",
      "second column [[3 4 5]\n",
      " [5 4 3]]\n"
     ]
    }
   ],
   "source": [
    "print(f\"original array : {a}\")\n",
    "reversed_arr = np.flip(a)\n",
    "print(f\"Reversed array : {reversed_arr}\")\n",
    "\n",
    "# reverse using axis\n",
    "reversed_arr_axis = np.flip(a, axis=0)\n",
    "print(f\"Reversed array using axis : {reversed_arr_axis}\")\n",
    "\n",
    "# reverse only second row\n",
    "a[1] = np.flip(a[1])\n",
    "print(\"second row\", reversed_arr)\n",
    "\n",
    "# reverse only second column\n",
    "a[:, 1] = np.flip(a[:, 1])\n",
    "print(\"second column\", reversed_arr)"
   ]
  },
  {
   "cell_type": "markdown",
   "metadata": {},
   "source": [
    "#### Reshaping and flattening "
   ]
  },
  {
   "cell_type": "code",
   "execution_count": null,
   "metadata": {},
   "outputs": [],
   "source": [
    "'''\n",
    "-> .flatten() - does not effect original array\n",
    "-> .ravel() - effects original array\n",
    "'''"
   ]
  },
  {
   "cell_type": "code",
   "execution_count": 59,
   "metadata": {},
   "outputs": [
    {
     "name": "stdout",
     "output_type": "stream",
     "text": [
      "Actual array :  [[0 1 2 3 4]\n",
      " [5 6 7 8 9]]\n",
      "flattened array :  [0 1 2 3 4 5 6 7 8 9]\n"
     ]
    }
   ],
   "source": [
    "x = np.arange(10).reshape(2, 5)\n",
    "print(\"Actual array : \", x)\n",
    "\n",
    "flat_x = x.flatten()\n",
    "print(\"flattened array : \", flat_x)"
   ]
  },
  {
   "cell_type": "code",
   "execution_count": 73,
   "metadata": {},
   "outputs": [],
   "source": [
    "import matplotlib.pyplot as plt\n",
    "\n",
    "%matplotlib inline"
   ]
  },
  {
   "cell_type": "code",
   "execution_count": 75,
   "metadata": {},
   "outputs": [
    {
     "data": {
      "text/plain": [
       "[<matplotlib.lines.Line2D at 0x7f2d4e827340>,\n",
       " <matplotlib.lines.Line2D at 0x7f2d4e827430>,\n",
       " <matplotlib.lines.Line2D at 0x7f2d4e827520>]"
      ]
     },
     "execution_count": 75,
     "metadata": {},
     "output_type": "execute_result"
    },
    {
     "data": {
      "image/png": "[encoded data removed]",
      "text/plain": [
       "<Figure size 640x480 with 1 Axes>"
      ]
     },
     "metadata": {},
     "output_type": "display_data"
    }
   ],
   "source": [
    "plt.plot(a)"
   ]
  }
 ],
 "metadata": {
  "kernelspec": {
   "display_name": "ds_venv",
   "language": "python",
   "name": "python3"
  },
  "language_info": {
   "codemirror_mode": {
    "name": "ipython",
    "version": 3
   },
   "file_extension": ".py",
   "mimetype": "text/x-python",
   "name": "python",
   "nbconvert_exporter": "python",
   "pygments_lexer": "ipython3",
   "version": "3.9.0"
  }
 },
 "nbformat": 4,
 "nbformat_minor": 2
}
